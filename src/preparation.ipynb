{
 "cells": [
  {
   "cell_type": "markdown",
   "metadata": {},
   "source": [
    "# Data preparation"
   ]
  },
  {
   "cell_type": "code",
   "execution_count": 1,
   "metadata": {},
   "outputs": [],
   "source": [
    "import numpy as np\n",
    "import pandas as pd\n",
    "import matplotlib.pyplot as plt\n",
    "import os\n",
    "from pathlib import Path"
   ]
  },
  {
   "cell_type": "code",
   "execution_count": 2,
   "metadata": {},
   "outputs": [],
   "source": [
    "def main(repo_path):\n",
    "    #reading\n",
    "    data_observations, data_env_fixed = load_raw_data()\n",
    "    #preparing\n",
    "    data_env_fixed = remove_binary_data(data_env_fixed)\n",
    "    #saving \n",
    "    save(data_observations, data_env_fixed, repo_path)"
   ]
  },
  {
   "cell_type": "code",
   "execution_count": 3,
   "metadata": {},
   "outputs": [],
   "source": [
    "def load_raw_data():\n",
    "    data_path_env_fixed = repo_path / \"data/raw/env_fixed.csv\"\n",
    "    data_path_observations = repo_path / \"data/raw/observations.csv\"\n",
    "    data_env_fixed = pd.read_csv(data_path_env_fixed, index_col=0)\n",
    "    data_observations = pd.read_csv(data_path_observations, index_col=0)\n",
    "    return data_observations, data_env_fixed"
   ]
  },
  {
   "cell_type": "code",
   "execution_count": 4,
   "metadata": {},
   "outputs": [],
   "source": [
    "def save(data_observations, data_env_fixed, data_path):\n",
    "    prepared = data_path / \"data/prepared\"\n",
    "    data_observations.to_csv(prepared / \"data_observations_prepared.csv\")\n",
    "    data_env_fixed.to_csv(prepared / \"data_env_fixed_prepared.csv\")"
   ]
  },
  {
   "cell_type": "code",
   "execution_count": 5,
   "metadata": {},
   "outputs": [],
   "source": [
    "# Convert binary data into Land Climate and remove binary data\n",
    "def remove_binary_data(data_env_fixed):\n",
    "    data_env_fixed = data_env_fixed.drop(data_env_fixed.iloc[:, 2:39], axis=1)\n",
    "    return data_env_fixed"
   ]
  },
  {
   "cell_type": "code",
   "execution_count": 6,
   "metadata": {
    "scrolled": true
   },
   "outputs": [],
   "source": [
    "repo_path = Path.cwd().parent\n",
    "main(repo_path)"
   ]
  }
 ],
 "metadata": {
  "kernelspec": {
   "display_name": "Python 3",
   "language": "python",
   "name": "python3"
  },
  "language_info": {
   "codemirror_mode": {
    "name": "ipython",
    "version": 3
   },
   "file_extension": ".py",
   "mimetype": "text/x-python",
   "name": "python",
   "nbconvert_exporter": "python",
   "pygments_lexer": "ipython3",
   "version": "3.8.3"
  }
 },
 "nbformat": 4,
 "nbformat_minor": 4
}
