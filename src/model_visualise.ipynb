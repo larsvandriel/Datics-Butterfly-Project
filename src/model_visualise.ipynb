{
 "cells": [
  {
   "cell_type": "markdown",
   "metadata": {
    "papermill": {
     "duration": 0.025222,
     "end_time": "2020-11-18T12:30:30.233013",
     "exception": false,
     "start_time": "2020-11-18T12:30:30.207791",
     "status": "completed"
    },
    "tags": []
   },
   "source": [
    "# Imports"
   ]
  },
  {
   "cell_type": "code",
   "execution_count": 1,
   "metadata": {
    "_cell_guid": "b1076dfc-b9ad-4769-8c92-a6c4dae69d19",
    "_uuid": "8f2839f25d086af736a60e9eeb907d3b93b6e0e5",
    "execution": {
     "iopub.execute_input": "2020-11-18T12:30:30.291879Z",
     "iopub.status.busy": "2020-11-18T12:30:30.291108Z",
     "iopub.status.idle": "2020-11-18T12:30:36.236914Z",
     "shell.execute_reply": "2020-11-18T12:30:36.237444Z"
    },
    "papermill": {
     "duration": 5.978748,
     "end_time": "2020-11-18T12:30:36.237634",
     "exception": false,
     "start_time": "2020-11-18T12:30:30.258886",
     "status": "completed"
    },
    "tags": []
   },
   "outputs": [
    {
     "name": "stdout",
     "output_type": "stream",
     "text": [
      "2.3.0\n",
      "C:\\Users\\31631\\Documents\\Minor ADS\\Project butterfly Naturalis\\datics-butterfly-project\n"
     ]
    }
   ],
   "source": [
    "import numpy as np \n",
    "import pandas as pd\n",
    "import geopandas as gpd\n",
    "\n",
    "import tensorflow as tf\n",
    "print(tf.__version__)\n",
    "\n",
    "from sklearn.model_selection import train_test_split\n",
    "from sklearn.metrics import accuracy_score\n",
    "from sklearn.metrics import classification_report\n",
    "from imblearn.over_sampling import RandomOverSampler\n",
    "\n",
    "import matplotlib.pyplot as plt\n",
    "import seaborn as sns\n",
    "import plotly.express as px\n",
    "\n",
    "from pathlib import Path\n",
    "repo_path = Path.cwd().parent\n",
    "print(repo_path)"
   ]
  },
  {
   "cell_type": "markdown",
   "metadata": {
    "papermill": {
     "duration": 0.025118,
     "end_time": "2020-11-18T12:30:36.288536",
     "exception": false,
     "start_time": "2020-11-18T12:30:36.263418",
     "status": "completed"
    },
    "tags": []
   },
   "source": [
    "# Functions"
   ]
  },
  {
   "cell_type": "code",
   "execution_count": 2,
   "metadata": {
    "execution": {
     "iopub.execute_input": "2020-11-18T12:30:36.356937Z",
     "iopub.status.busy": "2020-11-18T12:30:36.355887Z",
     "iopub.status.idle": "2020-11-18T12:30:36.359165Z",
     "shell.execute_reply": "2020-11-18T12:30:36.358583Z"
    },
    "papermill": {
     "duration": 0.045997,
     "end_time": "2020-11-18T12:30:36.359339",
     "exception": false,
     "start_time": "2020-11-18T12:30:36.313342",
     "status": "completed"
    },
    "tags": []
   },
   "outputs": [],
   "source": [
    "# Create categorical values (from string to int)\n",
    "def create_cat_values(column, column_name):\n",
    "    column = column.copy()\n",
    "    column = column.astype('category')\n",
    "    d = column.cat.categories\n",
    "    column = column.cat.codes\n",
    "    uniques = len(column.unique())\n",
    "    print(f'{column_name} contains {str(uniques)} categories')\n",
    "    return column, d\n",
    "\n",
    "def plot_loss(model_name, model):\n",
    "    loss = model.history['loss']\n",
    "    plt.plot(loss)\n",
    "    plt.ylabel('Loss')\n",
    "    plt.xlabel('Epoch')\n",
    "    plt.title(f'Loss of model {model_name} = {min(loss)}')\n",
    "    plt.show()\n",
    "    \n",
    "def plot_accuracy(model_name, model):\n",
    "    acc = model.history['accuracy']\n",
    "    plt.plot(acc)\n",
    "    plt.ylabel('Accuracy')\n",
    "    plt.xlabel('Epoch')\n",
    "    plt.title(f'Accuracy of model {model_name} = {max(acc)}')\n",
    "    plt.show()\n",
    "    \n",
    "def plot_sparse_accuracy(model_name, model):\n",
    "    acc = model.history['sparse_top_k_categorical_accuracy']\n",
    "    plt.plot(acc)\n",
    "    plt.ylabel('Accuracy')\n",
    "    plt.xlabel('Epoch')\n",
    "    plt.title(f'Accuracy of model {model_name} = {max(acc)}')\n",
    "    \n",
    "def plot_correlation_matrix(dataframe):\n",
    "    corrmatrix = dataframe.corr()\n",
    "    mask = np.zeros_like(corrmatrix)\n",
    "    mask[np.triu_indices_from(mask)] = True\n",
    "    with sns.axes_style(\"white\"):\n",
    "        f, ax = plt.subplots(figsize=(7, 5))\n",
    "        ax = sns.heatmap(corrmatrix, mask=mask, vmax=.3, square=True)\n",
    "\n",
    "def get_index_of_observations(y_test):\n",
    "    \n",
    "    i = 0\n",
    "\n",
    "    i_list_vlinder_1 = []\n",
    "    i_list_vlinder_2 = []\n",
    "    i_list_vlinder_3 = []\n",
    "    i_list_vlinder_4 = []\n",
    "    i_list_vlinder_5 = []\n",
    "\n",
    "    for items in y_test:\n",
    "        v1 = items[0]\n",
    "        v2 = items[1]\n",
    "        v3 = items[2]\n",
    "        v4 = items[3]\n",
    "        v5 = items[4]\n",
    "\n",
    "        if v1 == 1:\n",
    "            i_list_vlinder_1.append(i)\n",
    "\n",
    "        if v2 == 1:\n",
    "            i_list_vlinder_2.append(i)\n",
    "\n",
    "        if v3 == 1:\n",
    "            i_list_vlinder_3.append(i)\n",
    "\n",
    "        if v4 == 1:\n",
    "            i_list_vlinder_4.append(i)\n",
    "\n",
    "        if v5 == 1:\n",
    "            i_list_vlinder_5.append(i)\n",
    "\n",
    "        i = i + 1\n",
    "    return i_list_vlinder_1, i_list_vlinder_2, i_list_vlinder_3, i_list_vlinder_4, i_list_vlinder_5\n",
    "\n",
    "\n",
    "def threshold(threshold, y2_pred):\n",
    "    \n",
    "    y2_pred_threshold = y2_pred.copy()\n",
    "\n",
    "    for idx1, l in enumerate(y2_pred):\n",
    "        for idx2, e in enumerate(l):\n",
    "\n",
    "            if l[idx2] > threshold:\n",
    "                y2_pred_threshold[idx1, idx2] = 1\n",
    "\n",
    "            else:\n",
    "                y2_pred_threshold[idx1, idx2] = 0\n",
    "    \n",
    "    return y2_pred_threshold\n",
    "\n",
    "def predict_accuracy(y_test, y2_pred_threshold, butterflies):\n",
    "    \n",
    "    acc_vlinder_1 = accuracy_score_butterfly1 = accuracy_score(y_test[butterflies[0], 0], y2_pred_threshold[butterflies[0], 0])\n",
    "    acc_vlinder_2 = accuracy_score_butterfly2 = accuracy_score(y_test[butterflies[1], 1], y2_pred_threshold[butterflies[1], 1])\n",
    "    acc_vlinder_3 = accuracy_score_butterfly3 = accuracy_score(y_test[butterflies[2], 2], y2_pred_threshold[butterflies[2], 2])\n",
    "    acc_vlinder_4 = accuracy_score_butterfly4 = accuracy_score(y_test[butterflies[3], 3], y2_pred_threshold[butterflies[3], 3])\n",
    "    acc_vlinder_5 = accuracy_score_butterfly5 = accuracy_score(y_test[butterflies[4], 4], y2_pred_threshold[butterflies[4], 4])\n",
    "    \n",
    "    return acc_vlinder_1, acc_vlinder_2, acc_vlinder_3, acc_vlinder_4, acc_vlinder_5\n",
    "\n",
    "\n",
    "def scatter_plot(x, y, x_label, y_label, title, threshold):\n",
    "    plt.scatter(x, y)\n",
    "    plt.axhline(y=threshold, color='r', linestyle='-')\n",
    "    plt.xlabel(x_label)\n",
    "    plt.ylabel(y_label)\n",
    "    plt.title(title)\n",
    "    plt.show()\n",
    "    \n",
    "def boxplot(my_dict,x_label, y_label, title,threshold):\n",
    "    fig, ax = plt.subplots()\n",
    "    ax.boxplot(my_dict.values())\n",
    "    ax.set_xticklabels(my_dict.keys())\n",
    "    plt.axhline(y=threshold, color='r', linestyle='-')\n",
    "    plt.xlabel(x_label)\n",
    "    plt.ylabel(y_label)\n",
    "    plt.title(title)\n",
    "\n",
    "def analyse(X_train, X_test, y_train, y_test, model, thresh):\n",
    "    \n",
    "    y_test = np.asarray(y_test).astype('float32').reshape((-1,5))\n",
    "    y_pred = model.predict(X_test)\n",
    "\n",
    "    i_list_vlinder_1, i_list_vlinder_2, i_list_vlinder_3, i_list_vlinder_4, i_list_vlinder_5 = get_index_of_observations(y_test)\n",
    "    \n",
    "    butterflies = []\n",
    "    butterflies.append(i_list_vlinder_1)\n",
    "    butterflies.append(i_list_vlinder_2)\n",
    "    butterflies.append(i_list_vlinder_3)\n",
    "    butterflies.append(i_list_vlinder_4)\n",
    "    butterflies.append(i_list_vlinder_5)\n",
    "\n",
    "    y_pred_threshold = threshold(thresh, y_pred)\n",
    "\n",
    "    accuracy_score_butterfly1, accuracy_score_butterfly2, accuracy_score_butterfly3, accuracy_score_butterfly4, accuracy_score_butterfly5 = predict_accuracy(y_test, y_pred_threshold, butterflies)\n",
    "\n",
    "    y_pred_threshold = threshold(thresh, y_pred)\n",
    "\n",
    "    \n",
    "    #scatterplots\n",
    "    scatter_plot(i_list_vlinder_1, y_pred[butterflies[0],0], \"\", \"prediction value\", \"scatterplot butterfly 1 acc: \" + str(accuracy_score_butterfly1), thresh)\n",
    "    scatter_plot(i_list_vlinder_2, y_pred[butterflies[1],1], \"\", \"prediction value\", \"scatterplot butterfly 2 acc: \" + str(accuracy_score_butterfly2), thresh)\n",
    "    scatter_plot(i_list_vlinder_3, y_pred[butterflies[2],2], \"\", \"prediction value\", \"scatterplot butterfly 3 acc: \" + str(accuracy_score_butterfly3), thresh)\n",
    "    scatter_plot(i_list_vlinder_4, y_pred[butterflies[3],3], \"\", \"prediction value\", \"scatterplot butterfly 4 acc: \" + str(accuracy_score_butterfly4), thresh)\n",
    "    scatter_plot(i_list_vlinder_5, y_pred[butterflies[4],4], \"\", \"prediction value\", \"scatterplot butterfly 5 acc: \" + str(accuracy_score_butterfly5), thresh)\n",
    "    \n",
    "    #boxplot\n",
    "    my_dict = {'v1': y_pred[i_list_vlinder_1,0], \n",
    "           'v2': y_pred[i_list_vlinder_2,1], \n",
    "           'v3': y_pred[i_list_vlinder_3,2], \n",
    "           'v4': y_pred[i_list_vlinder_4,3], \n",
    "           'v5': y_pred[i_list_vlinder_5,4]}\n",
    "    \n",
    "    boxplot(my_dict,\"\", \"prediction value\", \"boxplot of all butterflies\", thresh)\n",
    "    \n",
    "    #classification report\n",
    "    print(classification_report(y_test, y_pred_threshold))"
   ]
  },
  {
   "cell_type": "markdown",
   "metadata": {
    "papermill": {
     "duration": 0.024983,
     "end_time": "2020-11-18T12:30:36.410376",
     "exception": false,
     "start_time": "2020-11-18T12:30:36.385393",
     "status": "completed"
    },
    "tags": []
   },
   "source": [
    "# From laurens we recieved the following points of feedback:\n",
    "1. Make use of different loss and accuracy functions\n",
    "2. Make a selection of two types of butterflies\n",
    "3. Less layers to train with\n",
    "4. Keep decreasing the number of neurons as the layers continue\n",
    "5. Check the output\n",
    "6. We dont have a classification problem but a multilabel-problem."
   ]
  },
  {
   "cell_type": "markdown",
   "metadata": {
    "papermill": {
     "duration": 0.025001,
     "end_time": "2020-11-18T12:30:36.460789",
     "exception": false,
     "start_time": "2020-11-18T12:30:36.435788",
     "status": "completed"
    },
    "tags": []
   },
   "source": [
    "Accuracy:\n",
    "https://keras.io/api/metrics/accuracy_metrics/#sparsetopkcategoricalaccuracy-class\n",
    "<br>\n",
    "Loss:\n",
    "https://keras.io/api/losses/probabilistic_losses/#binarycrossentropy-class"
   ]
  },
  {
   "cell_type": "markdown",
   "metadata": {
    "papermill": {
     "duration": 0.032758,
     "end_time": "2020-11-18T12:30:36.524562",
     "exception": false,
     "start_time": "2020-11-18T12:30:36.491804",
     "status": "completed"
    },
    "tags": []
   },
   "source": [
    "## Creating a selection of a few butterflies with different patterns:\n",
    "The selection was made by Vincent Kalkman, which is a known biologist from Naturalis and gave us a list of butterflies that we can use:\n",
    "- Parnassius apollo \n",
    "- Zerynthia rumina\n",
    "- Agriades optilete\n",
    "- Melanargia galathea\n",
    "- boloria titania "
   ]
  },
  {
   "cell_type": "markdown",
   "metadata": {
    "papermill": {
     "duration": 0.024531,
     "end_time": "2020-11-18T12:30:36.576446",
     "exception": false,
     "start_time": "2020-11-18T12:30:36.551915",
     "status": "completed"
    },
    "tags": []
   },
   "source": [
    "Making a dataframe with the selected butterflies and making them into categorical values"
   ]
  },
  {
   "cell_type": "code",
   "execution_count": 3,
   "metadata": {
    "execution": {
     "iopub.execute_input": "2020-11-18T12:30:36.634662Z",
     "iopub.status.busy": "2020-11-18T12:30:36.633961Z",
     "iopub.status.idle": "2020-11-18T12:30:38.879940Z",
     "shell.execute_reply": "2020-11-18T12:30:38.879339Z"
    },
    "papermill": {
     "duration": 2.279274,
     "end_time": "2020-11-18T12:30:38.880063",
     "exception": false,
     "start_time": "2020-11-18T12:30:36.600789",
     "status": "completed"
    },
    "tags": []
   },
   "outputs": [
    {
     "data": {
      "text/html": [
       "<div>\n",
       "<style scoped>\n",
       "    .dataframe tbody tr th:only-of-type {\n",
       "        vertical-align: middle;\n",
       "    }\n",
       "\n",
       "    .dataframe tbody tr th {\n",
       "        vertical-align: top;\n",
       "    }\n",
       "\n",
       "    .dataframe thead th {\n",
       "        text-align: right;\n",
       "    }\n",
       "</style>\n",
       "<table border=\"1\" class=\"dataframe\">\n",
       "  <thead>\n",
       "    <tr style=\"text-align: right;\">\n",
       "      <th></th>\n",
       "      <th>taxon_full_name</th>\n",
       "      <th>obs_latitude</th>\n",
       "      <th>obs_longitude</th>\n",
       "      <th>Cropland, rainfed</th>\n",
       "      <th>Herbaceous cover</th>\n",
       "      <th>Tree or shrub cover</th>\n",
       "      <th>Cropland, irrigated or post-flooding</th>\n",
       "      <th>Mosaic cropland (&gt;50%) / natural vegetation (tree, shrub, herbaceous cover) (&lt;50%)</th>\n",
       "      <th>Mosaic natural vegetation (tree, shrub, herbaceous cover) (&gt;50%) / cropland (&lt;50%)</th>\n",
       "      <th>Tree cover, broadleaved, evergreen, closed to open (&gt;15%)</th>\n",
       "      <th>...</th>\n",
       "      <th>BioClim_11</th>\n",
       "      <th>BioClim_12</th>\n",
       "      <th>BioClim_13</th>\n",
       "      <th>BioClim_14</th>\n",
       "      <th>BioClim_15</th>\n",
       "      <th>BioClim_16</th>\n",
       "      <th>BioClim_17</th>\n",
       "      <th>BioClim_18</th>\n",
       "      <th>BioClim_19</th>\n",
       "      <th>Land Climate</th>\n",
       "    </tr>\n",
       "  </thead>\n",
       "  <tbody>\n",
       "    <tr>\n",
       "      <th>9432</th>\n",
       "      <td>Parnassius apollo</td>\n",
       "      <td>45.872806</td>\n",
       "      <td>7.298264</td>\n",
       "      <td>0</td>\n",
       "      <td>0</td>\n",
       "      <td>0</td>\n",
       "      <td>0</td>\n",
       "      <td>0</td>\n",
       "      <td>0</td>\n",
       "      <td>0</td>\n",
       "      <td>...</td>\n",
       "      <td>0.490205</td>\n",
       "      <td>0.302439</td>\n",
       "      <td>0.228972</td>\n",
       "      <td>0.470199</td>\n",
       "      <td>0.073992</td>\n",
       "      <td>0.243311</td>\n",
       "      <td>0.464503</td>\n",
       "      <td>0.349854</td>\n",
       "      <td>0.249545</td>\n",
       "      <td>10</td>\n",
       "    </tr>\n",
       "    <tr>\n",
       "      <th>9433</th>\n",
       "      <td>Parnassius apollo</td>\n",
       "      <td>42.486523</td>\n",
       "      <td>0.859988</td>\n",
       "      <td>0</td>\n",
       "      <td>0</td>\n",
       "      <td>0</td>\n",
       "      <td>0</td>\n",
       "      <td>0</td>\n",
       "      <td>0</td>\n",
       "      <td>0</td>\n",
       "      <td>...</td>\n",
       "      <td>0.540456</td>\n",
       "      <td>0.307604</td>\n",
       "      <td>0.261682</td>\n",
       "      <td>0.430464</td>\n",
       "      <td>0.118185</td>\n",
       "      <td>0.251672</td>\n",
       "      <td>0.478702</td>\n",
       "      <td>0.344023</td>\n",
       "      <td>0.228597</td>\n",
       "      <td>4</td>\n",
       "    </tr>\n",
       "    <tr>\n",
       "      <th>9434</th>\n",
       "      <td>Parnassius apollo</td>\n",
       "      <td>42.594831</td>\n",
       "      <td>0.003154</td>\n",
       "      <td>0</td>\n",
       "      <td>0</td>\n",
       "      <td>0</td>\n",
       "      <td>0</td>\n",
       "      <td>0</td>\n",
       "      <td>0</td>\n",
       "      <td>0</td>\n",
       "      <td>...</td>\n",
       "      <td>0.578163</td>\n",
       "      <td>0.281205</td>\n",
       "      <td>0.235981</td>\n",
       "      <td>0.364238</td>\n",
       "      <td>0.138353</td>\n",
       "      <td>0.238294</td>\n",
       "      <td>0.409736</td>\n",
       "      <td>0.294461</td>\n",
       "      <td>0.228597</td>\n",
       "      <td>4</td>\n",
       "    </tr>\n",
       "    <tr>\n",
       "      <th>9435</th>\n",
       "      <td>Parnassius apollo</td>\n",
       "      <td>47.020877</td>\n",
       "      <td>12.341240</td>\n",
       "      <td>0</td>\n",
       "      <td>0</td>\n",
       "      <td>0</td>\n",
       "      <td>0</td>\n",
       "      <td>0</td>\n",
       "      <td>0</td>\n",
       "      <td>0</td>\n",
       "      <td>...</td>\n",
       "      <td>0.376792</td>\n",
       "      <td>0.358393</td>\n",
       "      <td>0.364486</td>\n",
       "      <td>0.450331</td>\n",
       "      <td>0.230099</td>\n",
       "      <td>0.367893</td>\n",
       "      <td>0.442191</td>\n",
       "      <td>0.674927</td>\n",
       "      <td>0.180328</td>\n",
       "      <td>22</td>\n",
       "    </tr>\n",
       "    <tr>\n",
       "      <th>9436</th>\n",
       "      <td>Parnassius apollo</td>\n",
       "      <td>45.900139</td>\n",
       "      <td>7.488521</td>\n",
       "      <td>0</td>\n",
       "      <td>0</td>\n",
       "      <td>0</td>\n",
       "      <td>0</td>\n",
       "      <td>0</td>\n",
       "      <td>0</td>\n",
       "      <td>0</td>\n",
       "      <td>...</td>\n",
       "      <td>0.518522</td>\n",
       "      <td>0.260258</td>\n",
       "      <td>0.203271</td>\n",
       "      <td>0.417219</td>\n",
       "      <td>0.070182</td>\n",
       "      <td>0.201505</td>\n",
       "      <td>0.419878</td>\n",
       "      <td>0.319242</td>\n",
       "      <td>0.196721</td>\n",
       "      <td>4</td>\n",
       "    </tr>\n",
       "  </tbody>\n",
       "</table>\n",
       "<p>5 rows × 68 columns</p>\n",
       "</div>"
      ],
      "text/plain": [
       "        taxon_full_name  obs_latitude  obs_longitude  Cropland, rainfed  \\\n",
       "9432  Parnassius apollo     45.872806       7.298264                  0   \n",
       "9433  Parnassius apollo     42.486523       0.859988                  0   \n",
       "9434  Parnassius apollo     42.594831       0.003154                  0   \n",
       "9435  Parnassius apollo     47.020877      12.341240                  0   \n",
       "9436  Parnassius apollo     45.900139       7.488521                  0   \n",
       "\n",
       "      Herbaceous cover  Tree or shrub cover  \\\n",
       "9432                 0                    0   \n",
       "9433                 0                    0   \n",
       "9434                 0                    0   \n",
       "9435                 0                    0   \n",
       "9436                 0                    0   \n",
       "\n",
       "      Cropland, irrigated or post-flooding  \\\n",
       "9432                                     0   \n",
       "9433                                     0   \n",
       "9434                                     0   \n",
       "9435                                     0   \n",
       "9436                                     0   \n",
       "\n",
       "      Mosaic cropland (>50%) / natural vegetation (tree, shrub, herbaceous cover) (<50%)  \\\n",
       "9432                                                  0                                    \n",
       "9433                                                  0                                    \n",
       "9434                                                  0                                    \n",
       "9435                                                  0                                    \n",
       "9436                                                  0                                    \n",
       "\n",
       "      Mosaic natural vegetation (tree, shrub, herbaceous cover) (>50%) / cropland (<50%)   \\\n",
       "9432                                                  0                                     \n",
       "9433                                                  0                                     \n",
       "9434                                                  0                                     \n",
       "9435                                                  0                                     \n",
       "9436                                                  0                                     \n",
       "\n",
       "      Tree cover, broadleaved, evergreen, closed to open (>15%)  ...  \\\n",
       "9432                                                  0          ...   \n",
       "9433                                                  0          ...   \n",
       "9434                                                  0          ...   \n",
       "9435                                                  0          ...   \n",
       "9436                                                  0          ...   \n",
       "\n",
       "      BioClim_11  BioClim_12  BioClim_13  BioClim_14  BioClim_15  BioClim_16  \\\n",
       "9432    0.490205    0.302439    0.228972    0.470199    0.073992    0.243311   \n",
       "9433    0.540456    0.307604    0.261682    0.430464    0.118185    0.251672   \n",
       "9434    0.578163    0.281205    0.235981    0.364238    0.138353    0.238294   \n",
       "9435    0.376792    0.358393    0.364486    0.450331    0.230099    0.367893   \n",
       "9436    0.518522    0.260258    0.203271    0.417219    0.070182    0.201505   \n",
       "\n",
       "      BioClim_17  BioClim_18  BioClim_19  Land Climate  \n",
       "9432    0.464503    0.349854    0.249545            10  \n",
       "9433    0.478702    0.344023    0.228597             4  \n",
       "9434    0.409736    0.294461    0.228597             4  \n",
       "9435    0.442191    0.674927    0.180328            22  \n",
       "9436    0.419878    0.319242    0.196721             4  \n",
       "\n",
       "[5 rows x 68 columns]"
      ]
     },
     "execution_count": 3,
     "metadata": {},
     "output_type": "execute_result"
    }
   ],
   "source": [
    "df = pd.read_csv(repo_path / 'data/prepared/data_merged.csv', index_col=0)\n",
    "\n",
    "butterfly_list = ['Parnassius apollo', \n",
    "                'Zerynthia rumina', \n",
    "                'Agriades optilete',\n",
    "                'Melanargia galathea', \n",
    "                'Boloria titania']\n",
    "\n",
    "# Only use selected butterflies\n",
    "df = df[df['taxon_full_name'].isin(butterfly_list)]\n",
    "\n",
    "df.head()"
   ]
  },
  {
   "cell_type": "code",
   "execution_count": 4,
   "metadata": {},
   "outputs": [
    {
     "data": {
      "text/plain": [
       "Melanargia galathea    3033\n",
       "Parnassius apollo      1122\n",
       "Zerynthia rumina        692\n",
       "Boloria titania         548\n",
       "Agriades optilete       225\n",
       "Name: taxon_full_name, dtype: int64"
      ]
     },
     "execution_count": 4,
     "metadata": {},
     "output_type": "execute_result"
    }
   ],
   "source": [
    "# Count unique values\n",
    "df['taxon_full_name'].value_counts()"
   ]
  },
  {
   "cell_type": "code",
   "execution_count": 5,
   "metadata": {},
   "outputs": [
    {
     "name": "stdout",
     "output_type": "stream",
     "text": [
      "taxon_full_name contains 5 categories\n"
     ]
    },
    {
     "data": {
      "text/html": [
       "<div>\n",
       "<style scoped>\n",
       "    .dataframe tbody tr th:only-of-type {\n",
       "        vertical-align: middle;\n",
       "    }\n",
       "\n",
       "    .dataframe tbody tr th {\n",
       "        vertical-align: top;\n",
       "    }\n",
       "\n",
       "    .dataframe thead th {\n",
       "        text-align: right;\n",
       "    }\n",
       "</style>\n",
       "<table border=\"1\" class=\"dataframe\">\n",
       "  <thead>\n",
       "    <tr style=\"text-align: right;\">\n",
       "      <th></th>\n",
       "      <th>taxon_full_name</th>\n",
       "      <th>obs_latitude</th>\n",
       "      <th>obs_longitude</th>\n",
       "      <th>Cropland, rainfed</th>\n",
       "      <th>Herbaceous cover</th>\n",
       "      <th>Tree or shrub cover</th>\n",
       "      <th>Cropland, irrigated or post-flooding</th>\n",
       "      <th>Mosaic cropland (&gt;50%) / natural vegetation (tree, shrub, herbaceous cover) (&lt;50%)</th>\n",
       "      <th>Mosaic natural vegetation (tree, shrub, herbaceous cover) (&gt;50%) / cropland (&lt;50%)</th>\n",
       "      <th>Tree cover, broadleaved, evergreen, closed to open (&gt;15%)</th>\n",
       "      <th>...</th>\n",
       "      <th>BioClim_11</th>\n",
       "      <th>BioClim_12</th>\n",
       "      <th>BioClim_13</th>\n",
       "      <th>BioClim_14</th>\n",
       "      <th>BioClim_15</th>\n",
       "      <th>BioClim_16</th>\n",
       "      <th>BioClim_17</th>\n",
       "      <th>BioClim_18</th>\n",
       "      <th>BioClim_19</th>\n",
       "      <th>Land Climate</th>\n",
       "    </tr>\n",
       "  </thead>\n",
       "  <tbody>\n",
       "    <tr>\n",
       "      <th>9432</th>\n",
       "      <td>3</td>\n",
       "      <td>45.872806</td>\n",
       "      <td>7.298264</td>\n",
       "      <td>0</td>\n",
       "      <td>0</td>\n",
       "      <td>0</td>\n",
       "      <td>0</td>\n",
       "      <td>0</td>\n",
       "      <td>0</td>\n",
       "      <td>0</td>\n",
       "      <td>...</td>\n",
       "      <td>0.490205</td>\n",
       "      <td>0.302439</td>\n",
       "      <td>0.228972</td>\n",
       "      <td>0.470199</td>\n",
       "      <td>0.073992</td>\n",
       "      <td>0.243311</td>\n",
       "      <td>0.464503</td>\n",
       "      <td>0.349854</td>\n",
       "      <td>0.249545</td>\n",
       "      <td>10</td>\n",
       "    </tr>\n",
       "    <tr>\n",
       "      <th>9433</th>\n",
       "      <td>3</td>\n",
       "      <td>42.486523</td>\n",
       "      <td>0.859988</td>\n",
       "      <td>0</td>\n",
       "      <td>0</td>\n",
       "      <td>0</td>\n",
       "      <td>0</td>\n",
       "      <td>0</td>\n",
       "      <td>0</td>\n",
       "      <td>0</td>\n",
       "      <td>...</td>\n",
       "      <td>0.540456</td>\n",
       "      <td>0.307604</td>\n",
       "      <td>0.261682</td>\n",
       "      <td>0.430464</td>\n",
       "      <td>0.118185</td>\n",
       "      <td>0.251672</td>\n",
       "      <td>0.478702</td>\n",
       "      <td>0.344023</td>\n",
       "      <td>0.228597</td>\n",
       "      <td>4</td>\n",
       "    </tr>\n",
       "    <tr>\n",
       "      <th>9434</th>\n",
       "      <td>3</td>\n",
       "      <td>42.594831</td>\n",
       "      <td>0.003154</td>\n",
       "      <td>0</td>\n",
       "      <td>0</td>\n",
       "      <td>0</td>\n",
       "      <td>0</td>\n",
       "      <td>0</td>\n",
       "      <td>0</td>\n",
       "      <td>0</td>\n",
       "      <td>...</td>\n",
       "      <td>0.578163</td>\n",
       "      <td>0.281205</td>\n",
       "      <td>0.235981</td>\n",
       "      <td>0.364238</td>\n",
       "      <td>0.138353</td>\n",
       "      <td>0.238294</td>\n",
       "      <td>0.409736</td>\n",
       "      <td>0.294461</td>\n",
       "      <td>0.228597</td>\n",
       "      <td>4</td>\n",
       "    </tr>\n",
       "    <tr>\n",
       "      <th>9435</th>\n",
       "      <td>3</td>\n",
       "      <td>47.020877</td>\n",
       "      <td>12.341240</td>\n",
       "      <td>0</td>\n",
       "      <td>0</td>\n",
       "      <td>0</td>\n",
       "      <td>0</td>\n",
       "      <td>0</td>\n",
       "      <td>0</td>\n",
       "      <td>0</td>\n",
       "      <td>...</td>\n",
       "      <td>0.376792</td>\n",
       "      <td>0.358393</td>\n",
       "      <td>0.364486</td>\n",
       "      <td>0.450331</td>\n",
       "      <td>0.230099</td>\n",
       "      <td>0.367893</td>\n",
       "      <td>0.442191</td>\n",
       "      <td>0.674927</td>\n",
       "      <td>0.180328</td>\n",
       "      <td>22</td>\n",
       "    </tr>\n",
       "    <tr>\n",
       "      <th>9436</th>\n",
       "      <td>3</td>\n",
       "      <td>45.900139</td>\n",
       "      <td>7.488521</td>\n",
       "      <td>0</td>\n",
       "      <td>0</td>\n",
       "      <td>0</td>\n",
       "      <td>0</td>\n",
       "      <td>0</td>\n",
       "      <td>0</td>\n",
       "      <td>0</td>\n",
       "      <td>...</td>\n",
       "      <td>0.518522</td>\n",
       "      <td>0.260258</td>\n",
       "      <td>0.203271</td>\n",
       "      <td>0.417219</td>\n",
       "      <td>0.070182</td>\n",
       "      <td>0.201505</td>\n",
       "      <td>0.419878</td>\n",
       "      <td>0.319242</td>\n",
       "      <td>0.196721</td>\n",
       "      <td>4</td>\n",
       "    </tr>\n",
       "  </tbody>\n",
       "</table>\n",
       "<p>5 rows × 68 columns</p>\n",
       "</div>"
      ],
      "text/plain": [
       "      taxon_full_name  obs_latitude  obs_longitude  Cropland, rainfed  \\\n",
       "9432                3     45.872806       7.298264                  0   \n",
       "9433                3     42.486523       0.859988                  0   \n",
       "9434                3     42.594831       0.003154                  0   \n",
       "9435                3     47.020877      12.341240                  0   \n",
       "9436                3     45.900139       7.488521                  0   \n",
       "\n",
       "      Herbaceous cover  Tree or shrub cover  \\\n",
       "9432                 0                    0   \n",
       "9433                 0                    0   \n",
       "9434                 0                    0   \n",
       "9435                 0                    0   \n",
       "9436                 0                    0   \n",
       "\n",
       "      Cropland, irrigated or post-flooding  \\\n",
       "9432                                     0   \n",
       "9433                                     0   \n",
       "9434                                     0   \n",
       "9435                                     0   \n",
       "9436                                     0   \n",
       "\n",
       "      Mosaic cropland (>50%) / natural vegetation (tree, shrub, herbaceous cover) (<50%)  \\\n",
       "9432                                                  0                                    \n",
       "9433                                                  0                                    \n",
       "9434                                                  0                                    \n",
       "9435                                                  0                                    \n",
       "9436                                                  0                                    \n",
       "\n",
       "      Mosaic natural vegetation (tree, shrub, herbaceous cover) (>50%) / cropland (<50%)   \\\n",
       "9432                                                  0                                     \n",
       "9433                                                  0                                     \n",
       "9434                                                  0                                     \n",
       "9435                                                  0                                     \n",
       "9436                                                  0                                     \n",
       "\n",
       "      Tree cover, broadleaved, evergreen, closed to open (>15%)  ...  \\\n",
       "9432                                                  0          ...   \n",
       "9433                                                  0          ...   \n",
       "9434                                                  0          ...   \n",
       "9435                                                  0          ...   \n",
       "9436                                                  0          ...   \n",
       "\n",
       "      BioClim_11  BioClim_12  BioClim_13  BioClim_14  BioClim_15  BioClim_16  \\\n",
       "9432    0.490205    0.302439    0.228972    0.470199    0.073992    0.243311   \n",
       "9433    0.540456    0.307604    0.261682    0.430464    0.118185    0.251672   \n",
       "9434    0.578163    0.281205    0.235981    0.364238    0.138353    0.238294   \n",
       "9435    0.376792    0.358393    0.364486    0.450331    0.230099    0.367893   \n",
       "9436    0.518522    0.260258    0.203271    0.417219    0.070182    0.201505   \n",
       "\n",
       "      BioClim_17  BioClim_18  BioClim_19  Land Climate  \n",
       "9432    0.464503    0.349854    0.249545            10  \n",
       "9433    0.478702    0.344023    0.228597             4  \n",
       "9434    0.409736    0.294461    0.228597             4  \n",
       "9435    0.442191    0.674927    0.180328            22  \n",
       "9436    0.419878    0.319242    0.196721             4  \n",
       "\n",
       "[5 rows x 68 columns]"
      ]
     },
     "execution_count": 5,
     "metadata": {},
     "output_type": "execute_result"
    }
   ],
   "source": [
    "# Transfrom species names and land climate names into categorial digits\n",
    "df['taxon_full_name'], categories_taxon = create_cat_values(df['taxon_full_name'], 'taxon_full_name')\n",
    "df.head()"
   ]
  },
  {
   "cell_type": "markdown",
   "metadata": {
    "papermill": {
     "duration": 0.028893,
     "end_time": "2020-11-18T12:30:39.325607",
     "exception": false,
     "start_time": "2020-11-18T12:30:39.296714",
     "status": "completed"
    },
    "tags": []
   },
   "source": [
    "## Prepare the data\n",
    "Final preperations and check correlations"
   ]
  },
  {
   "cell_type": "code",
   "execution_count": 6,
   "metadata": {
    "execution": {
     "iopub.execute_input": "2020-11-18T12:30:39.461355Z",
     "iopub.status.busy": "2020-11-18T12:30:39.459472Z",
     "iopub.status.idle": "2020-11-18T12:30:39.462056Z",
     "shell.execute_reply": "2020-11-18T12:30:39.462620Z"
    },
    "papermill": {
     "duration": 0.038284,
     "end_time": "2020-11-18T12:30:39.462759",
     "exception": false,
     "start_time": "2020-11-18T12:30:39.424475",
     "status": "completed"
    },
    "tags": []
   },
   "outputs": [],
   "source": [
    "# Features X gets all columns except first column\n",
    "X = df.iloc[:, 1:]\n",
    "# Label y gets first column which is 'taxon_full_name'\n",
    "y = df.iloc[:, 0]"
   ]
  },
  {
   "cell_type": "code",
   "execution_count": 7,
   "metadata": {
    "execution": {
     "iopub.execute_input": "2020-11-18T12:30:39.530483Z",
     "iopub.status.busy": "2020-11-18T12:30:39.529725Z",
     "iopub.status.idle": "2020-11-18T12:30:40.390364Z",
     "shell.execute_reply": "2020-11-18T12:30:40.387771Z"
    },
    "papermill": {
     "duration": 0.898329,
     "end_time": "2020-11-18T12:30:40.390550",
     "exception": false,
     "start_time": "2020-11-18T12:30:39.492221",
     "status": "completed"
    },
    "tags": []
   },
   "outputs": [
    {
     "data": {
      "image/png": "[encoded data removed]",
      "text/plain": [
       "<Figure size 504x360 with 2 Axes>"
      ]
     },
     "metadata": {},
     "output_type": "display_data"
    }
   ],
   "source": [
    "correlation = ['taxon_full_name','elevation', 'WorldClim_prec_m06', 'WorldClim_srad_m06',\n",
    "       'WorldClim_tavg_m06', 'WorldClim_tmax_m06', 'WorldClim_tmin_m06',\n",
    "       'WorldClim_vapr_m06', 'WorldClim_wind_m06', 'BioClim_01', 'BioClim_02',\n",
    "       'BioClim_03', 'BioClim_04', 'BioClim_05', 'BioClim_06', 'BioClim_07',\n",
    "       'BioClim_08', 'BioClim_09', 'BioClim_10', 'BioClim_11', 'BioClim_12',\n",
    "       'BioClim_13', 'BioClim_14', 'BioClim_15', 'BioClim_16', 'BioClim_17',\n",
    "       'BioClim_18', 'BioClim_19']\n",
    "plot_correlation_matrix(df[correlation])"
   ]
  },
  {
   "cell_type": "code",
   "execution_count": 8,
   "metadata": {},
   "outputs": [],
   "source": [
    "X_train, X_test, y_train, y_test = train_test_split(X, y, test_size=0.33, random_state=42)"
   ]
  },
  {
   "cell_type": "markdown",
   "metadata": {
    "papermill": {
     "duration": 0.051328,
     "end_time": "2020-11-18T12:30:40.874460",
     "exception": false,
     "start_time": "2020-11-18T12:30:40.823132",
     "status": "completed"
    },
    "tags": []
   },
   "source": [
    "## Model 1 with SpargeTopKCategoricalAccuracy (k=1)"
   ]
  },
  {
   "cell_type": "code",
   "execution_count": 9,
   "metadata": {
    "execution": {
     "iopub.execute_input": "2020-11-18T12:30:41.232095Z",
     "iopub.status.busy": "2020-11-18T12:30:41.231410Z",
     "iopub.status.idle": "2020-11-18T12:32:09.183719Z",
     "shell.execute_reply": "2020-11-18T12:32:09.183036Z"
    },
    "papermill": {
     "duration": 87.997057,
     "end_time": "2020-11-18T12:32:09.183863",
     "exception": false,
     "start_time": "2020-11-18T12:30:41.186806",
     "status": "completed"
    },
    "tags": []
   },
   "outputs": [],
   "source": [
    "# With SparseTopKCategoricalAccuracy k=1\n",
    "def train_model1(X, y):\n",
    "    X_train, X_test, y_train, y_test = train_test_split(X, y, test_size=0.33, random_state=42)\n",
    "    output_neurons = len(y_train.unique())\n",
    "\n",
    "    model = tf.keras.Sequential([\n",
    "      tf.keras.layers.Dense(256, activation='relu', kernel_initializer='he_uniform'),\n",
    "      tf.keras.layers.Dense(128, activation='relu'),\n",
    "      tf.keras.layers.Dense(56, activation='relu'),\n",
    "      tf.keras.layers.Dense(28, activation='relu'),\n",
    "      tf.keras.layers.Dense(output_neurons, activation='sigmoid')\n",
    "    ])\n",
    "\n",
    "    opt = tf.keras.optimizers.Adam(learning_rate=0.001)\n",
    "    acc = tf.keras.metrics.SparseTopKCategoricalAccuracy(\n",
    "        k=1, name=\"sparse_top_k_categorical_accuracy\", dtype=None\n",
    "    )\n",
    "\n",
    "    model.compile(optimizer=opt,\n",
    "                  loss='sparse_categorical_crossentropy',\n",
    "                  metrics=[acc])  \n",
    "                  \n",
    "    model_history = model1.fit(X_train, y_train, validation_data=(X_test, y_test), epochs=200)\n",
    "\n",
    "    plot_sparse_accuracy('Model 1 (sparse_categorical_crossentropy 1)', model_history)\n",
    "    plot_loss('Model 1 (sparse_categorical_crossentropy 1)', model_history)\n",
    "\n",
    "    return model1\n",
    "\n",
    "# model1 = train_model1(X, y)"
   ]
  },
  {
   "cell_type": "markdown",
   "metadata": {},
   "source": [
    "## Model 2 with SpargeTopKCategoricalAccuracy (k=2)"
   ]
  },
  {
   "cell_type": "code",
   "execution_count": 10,
   "metadata": {},
   "outputs": [],
   "source": [
    "def train_model2(X_train, X_test, y_train, y_test):\n",
    "\n",
    "    output_neurons = len(y_train.unique())\n",
    "\n",
    "    model = tf.keras.Sequential([\n",
    "\n",
    "      tf.keras.layers.Dense(256, activation='relu', kernel_initializer='he_uniform'),\n",
    "\n",
    "      tf.keras.layers.Dense(128, activation='relu'),\n",
    "\n",
    "      tf.keras.layers.Dense(56, activation='relu'),\n",
    "\n",
    "      tf.keras.layers.Dense(28, activation='relu'),\n",
    "\n",
    "      tf.keras.layers.Dense(output_neurons, activation='sigmoid')\n",
    "\n",
    "    ])\n",
    "\n",
    "\n",
    "\n",
    "    opt = tf.keras.optimizers.Adam(learning_rate=0.001)\n",
    "\n",
    "    acc = tf.keras.metrics.SparseTopKCategoricalAccuracy(\n",
    "\n",
    "        k=2, name=\"sparse_top_k_categorical_accuracy\", dtype=None\n",
    "\n",
    "    )\n",
    "\n",
    "\n",
    "\n",
    "    model.compile(optimizer=opt,\n",
    "\n",
    "                  loss='sparse_categorical_crossentropy',\n",
    "\n",
    "                  metrics=[acc])  \n",
    "\n",
    "\n",
    "\n",
    "    model_history = model.fit(X_train, \n",
    "\n",
    "                              y_train, \n",
    "\n",
    "                              validation_data=(X_test, y_test), \n",
    "\n",
    "                              epochs=200)\n",
    "\n",
    "\n",
    "\n",
    "    plot_sparse_accuracy('Model 2 (sparse_categorical_crossentropy 2)', model_history)\n",
    "\n",
    "    plot_loss('Model 2 (sparse_categorical_crossentropy 2)', model_history)\n",
    "\n",
    "\n",
    "\n",
    "    return model"
   ]
  },
  {
   "cell_type": "code",
   "execution_count": null,
   "metadata": {
    "scrolled": false
   },
   "outputs": [
    {
     "name": "stdout",
     "output_type": "stream",
     "text": [
      "Epoch 1/200\n",
      "WARNING:tensorflow:Layer dense is casting an input tensor from dtype float64 to the layer's dtype of float32, which is new behavior in TensorFlow 2.  The layer has dtype float32 because its dtype defaults to floatx.\n",
      "\n",
      "If you intended to run this layer in float32, you can safely ignore this warning. If in doubt, this warning is likely only an issue if you are porting a TensorFlow 1.X model to TensorFlow 2.\n",
      "\n",
      "To change all layers to have dtype float64 by default, call `tf.keras.backend.set_floatx('float64')`. To change just this layer, pass dtype='float64' to the layer constructor. If you are the author of this layer, you can disable autocasting by passing autocast=False to the base Layer constructor.\n",
      "\n",
      "118/118 [==============================] - 0s 3ms/step - loss: 1.2001 - sparse_top_k_categorical_accuracy: 0.7657 - val_loss: 1.1129 - val_sparse_top_k_categorical_accuracy: 0.8108\n",
      "Epoch 2/200\n",
      "118/118 [==============================] - 0s 2ms/step - loss: 0.9878 - sparse_top_k_categorical_accuracy: 0.8236 - val_loss: 0.9717 - val_sparse_top_k_categorical_accuracy: 0.8135\n",
      "Epoch 3/200\n",
      "118/118 [==============================] - 0s 2ms/step - loss: 0.8849 - sparse_top_k_categorical_accuracy: 0.8340 - val_loss: 0.8910 - val_sparse_top_k_categorical_accuracy: 0.8415\n",
      "Epoch 4/200\n",
      "118/118 [==============================] - 0s 3ms/step - loss: 0.8421 - sparse_top_k_categorical_accuracy: 0.8494 - val_loss: 0.8578 - val_sparse_top_k_categorical_accuracy: 0.8399\n",
      "Epoch 5/200\n",
      "118/118 [==============================] - 0s 2ms/step - loss: 0.8141 - sparse_top_k_categorical_accuracy: 0.8428 - val_loss: 0.8144 - val_sparse_top_k_categorical_accuracy: 0.8420\n",
      "Epoch 6/200\n",
      "118/118 [==============================] - 0s 2ms/step - loss: 0.7919 - sparse_top_k_categorical_accuracy: 0.8499 - val_loss: 0.8431 - val_sparse_top_k_categorical_accuracy: 0.8491\n",
      "Epoch 7/200\n",
      "118/118 [==============================] - 0s 2ms/step - loss: 0.7809 - sparse_top_k_categorical_accuracy: 0.8526 - val_loss: 0.8316 - val_sparse_top_k_categorical_accuracy: 0.8480\n",
      "Epoch 8/200\n",
      "118/118 [==============================] - 0s 2ms/step - loss: 0.7768 - sparse_top_k_categorical_accuracy: 0.8592 - val_loss: 0.7898 - val_sparse_top_k_categorical_accuracy: 0.8442\n",
      "Epoch 9/200\n",
      "118/118 [==============================] - 0s 2ms/step - loss: 0.7656 - sparse_top_k_categorical_accuracy: 0.8603 - val_loss: 0.8037 - val_sparse_top_k_categorical_accuracy: 0.8550\n",
      "Epoch 10/200\n",
      "118/118 [==============================] - 0s 2ms/step - loss: 0.7440 - sparse_top_k_categorical_accuracy: 0.8622 - val_loss: 0.7758 - val_sparse_top_k_categorical_accuracy: 0.8668\n",
      "Epoch 11/200\n",
      "118/118 [==============================] - 0s 2ms/step - loss: 0.7379 - sparse_top_k_categorical_accuracy: 0.8590 - val_loss: 0.7959 - val_sparse_top_k_categorical_accuracy: 0.8480\n",
      "Epoch 12/200\n",
      "118/118 [==============================] - 0s 2ms/step - loss: 0.7340 - sparse_top_k_categorical_accuracy: 0.8614 - val_loss: 0.7609 - val_sparse_top_k_categorical_accuracy: 0.8474\n",
      "Epoch 13/200\n",
      "118/118 [==============================] - 0s 2ms/step - loss: 0.7365 - sparse_top_k_categorical_accuracy: 0.8603 - val_loss: 0.7455 - val_sparse_top_k_categorical_accuracy: 0.8501\n",
      "Epoch 14/200\n",
      "118/118 [==============================] - 0s 2ms/step - loss: 0.7202 - sparse_top_k_categorical_accuracy: 0.8611 - val_loss: 0.7470 - val_sparse_top_k_categorical_accuracy: 0.8615\n",
      "Epoch 15/200\n",
      "118/118 [==============================] - 0s 2ms/step - loss: 0.7047 - sparse_top_k_categorical_accuracy: 0.8645 - val_loss: 0.7923 - val_sparse_top_k_categorical_accuracy: 0.8668\n",
      "Epoch 16/200\n",
      "118/118 [==============================] - 0s 2ms/step - loss: 0.7128 - sparse_top_k_categorical_accuracy: 0.8648 - val_loss: 0.7823 - val_sparse_top_k_categorical_accuracy: 0.8496\n",
      "Epoch 17/200\n",
      "118/118 [==============================] - 0s 2ms/step - loss: 0.7098 - sparse_top_k_categorical_accuracy: 0.8608 - val_loss: 0.7437 - val_sparse_top_k_categorical_accuracy: 0.8539\n",
      "Epoch 18/200\n",
      "118/118 [==============================] - 0s 3ms/step - loss: 0.6887 - sparse_top_k_categorical_accuracy: 0.8653 - val_loss: 0.7459 - val_sparse_top_k_categorical_accuracy: 0.8544\n",
      "Epoch 19/200\n",
      "118/118 [==============================] - 0s 2ms/step - loss: 0.6971 - sparse_top_k_categorical_accuracy: 0.8672 - val_loss: 0.7301 - val_sparse_top_k_categorical_accuracy: 0.8631\n",
      "Epoch 20/200\n",
      "118/118 [==============================] - 0s 2ms/step - loss: 0.6827 - sparse_top_k_categorical_accuracy: 0.8728 - val_loss: 0.7359 - val_sparse_top_k_categorical_accuracy: 0.8566\n",
      "Epoch 21/200\n",
      "118/118 [==============================] - 0s 2ms/step - loss: 0.6760 - sparse_top_k_categorical_accuracy: 0.8839 - val_loss: 0.7178 - val_sparse_top_k_categorical_accuracy: 0.8733\n",
      "Epoch 22/200\n",
      "118/118 [==============================] - 0s 2ms/step - loss: 0.6733 - sparse_top_k_categorical_accuracy: 0.8954 - val_loss: 0.7142 - val_sparse_top_k_categorical_accuracy: 0.8922\n",
      "Epoch 23/200\n",
      "118/118 [==============================] - 0s 2ms/step - loss: 0.6642 - sparse_top_k_categorical_accuracy: 0.8999 - val_loss: 0.7415 - val_sparse_top_k_categorical_accuracy: 0.8916\n",
      "Epoch 24/200\n",
      "118/118 [==============================] - 0s 2ms/step - loss: 0.6559 - sparse_top_k_categorical_accuracy: 0.9028 - val_loss: 0.7383 - val_sparse_top_k_categorical_accuracy: 0.8809\n",
      "Epoch 25/200\n",
      "118/118 [==============================] - 0s 2ms/step - loss: 0.6519 - sparse_top_k_categorical_accuracy: 0.9023 - val_loss: 0.7010 - val_sparse_top_k_categorical_accuracy: 0.8965\n",
      "Epoch 26/200\n",
      "118/118 [==============================] - 0s 2ms/step - loss: 0.6397 - sparse_top_k_categorical_accuracy: 0.9017 - val_loss: 0.6748 - val_sparse_top_k_categorical_accuracy: 0.9057\n",
      "Epoch 27/200\n",
      "118/118 [==============================] - 0s 2ms/step - loss: 0.6510 - sparse_top_k_categorical_accuracy: 0.8972 - val_loss: 0.6798 - val_sparse_top_k_categorical_accuracy: 0.8927\n",
      "Epoch 28/200\n",
      "118/118 [==============================] - 0s 2ms/step - loss: 0.6284 - sparse_top_k_categorical_accuracy: 0.9100 - val_loss: 0.6721 - val_sparse_top_k_categorical_accuracy: 0.8981\n",
      "Epoch 29/200\n",
      "118/118 [==============================] - 0s 2ms/step - loss: 0.6298 - sparse_top_k_categorical_accuracy: 0.9113 - val_loss: 0.6893 - val_sparse_top_k_categorical_accuracy: 0.9003\n",
      "Epoch 30/200\n",
      "118/118 [==============================] - 0s 2ms/step - loss: 0.6316 - sparse_top_k_categorical_accuracy: 0.9062 - val_loss: 0.6706 - val_sparse_top_k_categorical_accuracy: 0.8992\n",
      "Epoch 31/200\n",
      "118/118 [==============================] - 0s 3ms/step - loss: 0.6247 - sparse_top_k_categorical_accuracy: 0.9089 - val_loss: 0.7812 - val_sparse_top_k_categorical_accuracy: 0.8658\n",
      "Epoch 32/200\n",
      "118/118 [==============================] - 0s 2ms/step - loss: 0.6207 - sparse_top_k_categorical_accuracy: 0.9060 - val_loss: 0.6570 - val_sparse_top_k_categorical_accuracy: 0.9003\n",
      "Epoch 33/200\n",
      "118/118 [==============================] - 0s 2ms/step - loss: 0.6075 - sparse_top_k_categorical_accuracy: 0.9092 - val_loss: 0.6711 - val_sparse_top_k_categorical_accuracy: 0.9008\n",
      "Epoch 34/200\n",
      "118/118 [==============================] - 0s 3ms/step - loss: 0.6259 - sparse_top_k_categorical_accuracy: 0.9081 - val_loss: 0.6645 - val_sparse_top_k_categorical_accuracy: 0.8976\n",
      "Epoch 35/200\n",
      "118/118 [==============================] - 0s 2ms/step - loss: 0.6079 - sparse_top_k_categorical_accuracy: 0.9110 - val_loss: 0.6845 - val_sparse_top_k_categorical_accuracy: 0.8976\n",
      "Epoch 36/200\n",
      "118/118 [==============================] - 0s 2ms/step - loss: 0.6047 - sparse_top_k_categorical_accuracy: 0.9150 - val_loss: 0.6426 - val_sparse_top_k_categorical_accuracy: 0.9132\n",
      "Epoch 37/200\n",
      "118/118 [==============================] - 0s 3ms/step - loss: 0.6083 - sparse_top_k_categorical_accuracy: 0.9108 - val_loss: 0.7176 - val_sparse_top_k_categorical_accuracy: 0.8852\n",
      "Epoch 38/200\n",
      "118/118 [==============================] - 0s 2ms/step - loss: 0.6025 - sparse_top_k_categorical_accuracy: 0.9131 - val_loss: 0.6697 - val_sparse_top_k_categorical_accuracy: 0.8943\n",
      "Epoch 39/200\n"
     ]
    },
    {
     "name": "stdout",
     "output_type": "stream",
     "text": [
      "118/118 [==============================] - 0s 2ms/step - loss: 0.5977 - sparse_top_k_categorical_accuracy: 0.9126 - val_loss: 0.6537 - val_sparse_top_k_categorical_accuracy: 0.8987\n",
      "Epoch 40/200\n",
      "118/118 [==============================] - 0s 2ms/step - loss: 0.6028 - sparse_top_k_categorical_accuracy: 0.9129 - val_loss: 0.6387 - val_sparse_top_k_categorical_accuracy: 0.9008\n",
      "Epoch 41/200\n",
      "118/118 [==============================] - 0s 2ms/step - loss: 0.5892 - sparse_top_k_categorical_accuracy: 0.9177 - val_loss: 0.6805 - val_sparse_top_k_categorical_accuracy: 0.9035\n",
      "Epoch 42/200\n",
      "118/118 [==============================] - 0s 2ms/step - loss: 0.5833 - sparse_top_k_categorical_accuracy: 0.9161 - val_loss: 0.6632 - val_sparse_top_k_categorical_accuracy: 0.9084\n",
      "Epoch 43/200\n",
      "118/118 [==============================] - 0s 2ms/step - loss: 0.5918 - sparse_top_k_categorical_accuracy: 0.9198 - val_loss: 0.6367 - val_sparse_top_k_categorical_accuracy: 0.9051\n",
      "Epoch 44/200\n",
      "118/118 [==============================] - 0s 2ms/step - loss: 0.5863 - sparse_top_k_categorical_accuracy: 0.9163 - val_loss: 0.6544 - val_sparse_top_k_categorical_accuracy: 0.8916\n",
      "Epoch 45/200\n",
      "118/118 [==============================] - 0s 3ms/step - loss: 0.5749 - sparse_top_k_categorical_accuracy: 0.9206 - val_loss: 0.7139 - val_sparse_top_k_categorical_accuracy: 0.8954\n",
      "Epoch 46/200\n",
      "118/118 [==============================] - 0s 3ms/step - loss: 0.5919 - sparse_top_k_categorical_accuracy: 0.9155 - val_loss: 0.6529 - val_sparse_top_k_categorical_accuracy: 0.8997\n",
      "Epoch 47/200\n",
      "118/118 [==============================] - 0s 2ms/step - loss: 0.5809 - sparse_top_k_categorical_accuracy: 0.9201 - val_loss: 0.6746 - val_sparse_top_k_categorical_accuracy: 0.8809\n",
      "Epoch 48/200\n",
      "118/118 [==============================] - 0s 2ms/step - loss: 0.5666 - sparse_top_k_categorical_accuracy: 0.9214 - val_loss: 0.6672 - val_sparse_top_k_categorical_accuracy: 0.8987\n",
      "Epoch 49/200\n",
      "118/118 [==============================] - 0s 2ms/step - loss: 0.5737 - sparse_top_k_categorical_accuracy: 0.9187 - val_loss: 0.6483 - val_sparse_top_k_categorical_accuracy: 0.8976\n",
      "Epoch 50/200\n",
      "118/118 [==============================] - 0s 2ms/step - loss: 0.5761 - sparse_top_k_categorical_accuracy: 0.9169 - val_loss: 0.6349 - val_sparse_top_k_categorical_accuracy: 0.9062\n",
      "Epoch 51/200\n",
      "118/118 [==============================] - 0s 2ms/step - loss: 0.5652 - sparse_top_k_categorical_accuracy: 0.9190 - val_loss: 0.6227 - val_sparse_top_k_categorical_accuracy: 0.8997\n",
      "Epoch 52/200\n",
      "118/118 [==============================] - 0s 2ms/step - loss: 0.5544 - sparse_top_k_categorical_accuracy: 0.9214 - val_loss: 0.6498 - val_sparse_top_k_categorical_accuracy: 0.8970\n",
      "Epoch 53/200\n",
      "118/118 [==============================] - 0s 2ms/step - loss: 0.5608 - sparse_top_k_categorical_accuracy: 0.9182 - val_loss: 0.6330 - val_sparse_top_k_categorical_accuracy: 0.8997\n",
      "Epoch 54/200\n",
      "118/118 [==============================] - 0s 2ms/step - loss: 0.5532 - sparse_top_k_categorical_accuracy: 0.9203 - val_loss: 0.6221 - val_sparse_top_k_categorical_accuracy: 0.9078\n",
      "Epoch 55/200\n",
      "118/118 [==============================] - 0s 2ms/step - loss: 0.5561 - sparse_top_k_categorical_accuracy: 0.9206 - val_loss: 0.6257 - val_sparse_top_k_categorical_accuracy: 0.9019\n",
      "Epoch 56/200\n",
      "118/118 [==============================] - 0s 2ms/step - loss: 0.5496 - sparse_top_k_categorical_accuracy: 0.9208 - val_loss: 0.6220 - val_sparse_top_k_categorical_accuracy: 0.9067\n",
      "Epoch 57/200\n",
      "118/118 [==============================] - 0s 2ms/step - loss: 0.5508 - sparse_top_k_categorical_accuracy: 0.9224 - val_loss: 0.6377 - val_sparse_top_k_categorical_accuracy: 0.8997\n",
      "Epoch 58/200\n",
      "118/118 [==============================] - 0s 2ms/step - loss: 0.5525 - sparse_top_k_categorical_accuracy: 0.9246 - val_loss: 0.6208 - val_sparse_top_k_categorical_accuracy: 0.9024\n",
      "Epoch 59/200\n",
      "118/118 [==============================] - 0s 2ms/step - loss: 0.5464 - sparse_top_k_categorical_accuracy: 0.9219 - val_loss: 0.6288 - val_sparse_top_k_categorical_accuracy: 0.8976\n",
      "Epoch 60/200\n",
      "118/118 [==============================] - 0s 2ms/step - loss: 0.5433 - sparse_top_k_categorical_accuracy: 0.9275 - val_loss: 0.6513 - val_sparse_top_k_categorical_accuracy: 0.8911\n",
      "Epoch 61/200\n",
      "118/118 [==============================] - 0s 2ms/step - loss: 0.5433 - sparse_top_k_categorical_accuracy: 0.9267 - val_loss: 0.6204 - val_sparse_top_k_categorical_accuracy: 0.9019\n",
      "Epoch 62/200\n",
      "118/118 [==============================] - 0s 2ms/step - loss: 0.5395 - sparse_top_k_categorical_accuracy: 0.9270 - val_loss: 0.6283 - val_sparse_top_k_categorical_accuracy: 0.8976\n",
      "Epoch 63/200\n",
      "118/118 [==============================] - 0s 2ms/step - loss: 0.5371 - sparse_top_k_categorical_accuracy: 0.9232 - val_loss: 0.5985 - val_sparse_top_k_categorical_accuracy: 0.9078\n",
      "Epoch 64/200\n",
      "118/118 [==============================] - 0s 2ms/step - loss: 0.5369 - sparse_top_k_categorical_accuracy: 0.9270 - val_loss: 0.6056 - val_sparse_top_k_categorical_accuracy: 0.9003\n",
      "Epoch 65/200\n",
      "118/118 [==============================] - 0s 2ms/step - loss: 0.5387 - sparse_top_k_categorical_accuracy: 0.9243 - val_loss: 0.6099 - val_sparse_top_k_categorical_accuracy: 0.8997\n",
      "Epoch 66/200\n",
      "118/118 [==============================] - 0s 2ms/step - loss: 0.5281 - sparse_top_k_categorical_accuracy: 0.9264 - val_loss: 0.6029 - val_sparse_top_k_categorical_accuracy: 0.9094\n",
      "Epoch 67/200\n",
      "118/118 [==============================] - 0s 2ms/step - loss: 0.5321 - sparse_top_k_categorical_accuracy: 0.9283 - val_loss: 0.6012 - val_sparse_top_k_categorical_accuracy: 0.9062\n",
      "Epoch 68/200\n",
      "118/118 [==============================] - 0s 2ms/step - loss: 0.5244 - sparse_top_k_categorical_accuracy: 0.9293 - val_loss: 0.6071 - val_sparse_top_k_categorical_accuracy: 0.9094\n",
      "Epoch 69/200\n",
      "118/118 [==============================] - 0s 2ms/step - loss: 0.5254 - sparse_top_k_categorical_accuracy: 0.9288 - val_loss: 0.6182 - val_sparse_top_k_categorical_accuracy: 0.9057\n",
      "Epoch 70/200\n",
      "118/118 [==============================] - 0s 2ms/step - loss: 0.5274 - sparse_top_k_categorical_accuracy: 0.9262 - val_loss: 0.6085 - val_sparse_top_k_categorical_accuracy: 0.9084\n",
      "Epoch 71/200\n",
      "118/118 [==============================] - 0s 2ms/step - loss: 0.5261 - sparse_top_k_categorical_accuracy: 0.9259 - val_loss: 0.5977 - val_sparse_top_k_categorical_accuracy: 0.9164\n",
      "Epoch 72/200\n",
      "118/118 [==============================] - 0s 2ms/step - loss: 0.5205 - sparse_top_k_categorical_accuracy: 0.9307 - val_loss: 0.6218 - val_sparse_top_k_categorical_accuracy: 0.9062\n",
      "Epoch 73/200\n",
      "118/118 [==============================] - 0s 2ms/step - loss: 0.5292 - sparse_top_k_categorical_accuracy: 0.9312 - val_loss: 0.6005 - val_sparse_top_k_categorical_accuracy: 0.9111\n",
      "Epoch 74/200\n",
      "118/118 [==============================] - 0s 2ms/step - loss: 0.5292 - sparse_top_k_categorical_accuracy: 0.9307 - val_loss: 0.5985 - val_sparse_top_k_categorical_accuracy: 0.9121\n",
      "Epoch 75/200\n",
      "118/118 [==============================] - 0s 2ms/step - loss: 0.5253 - sparse_top_k_categorical_accuracy: 0.9309 - val_loss: 0.6020 - val_sparse_top_k_categorical_accuracy: 0.9154\n",
      "Epoch 76/200\n",
      "118/118 [==============================] - 0s 2ms/step - loss: 0.5233 - sparse_top_k_categorical_accuracy: 0.9291 - val_loss: 0.6245 - val_sparse_top_k_categorical_accuracy: 0.9073\n",
      "Epoch 77/200\n",
      "116/118 [============================>.] - ETA: 0s - loss: 0.5114 - sparse_top_k_categorical_accuracy: 0.9278"
     ]
    }
   ],
   "source": [
    "X_train, X_test, y_train, y_test = train_test_split(X, y, test_size=0.33, random_state=42)\n",
    "\n",
    "model2 = train_model2(X_train, X_test, y_train, y_test)"
   ]
  },
  {
   "cell_type": "markdown",
   "metadata": {},
   "source": [
    "## Model 3 with binary crossentropy"
   ]
  },
  {
   "cell_type": "code",
   "execution_count": null,
   "metadata": {
    "tags": [
     "outputPrepend"
    ]
   },
   "outputs": [],
   "source": [
    "def train_model3(X_train, X_test, y_train, y_test, oversample=False, verbose=1):\n",
    "\n",
    "    output_neurons = len(y_train.columns)\n",
    "\n",
    "    if oversample:\n",
    "        oversampler = RandomOverSampler()\n",
    "        \n",
    "        X_train, y_train = oversampler.fit_resample(X_train.to_numpy(), y_train.to_numpy())\n",
    "        \n",
    "        output_neurons = len(y_train[0])\n",
    "\n",
    "\n",
    "    model = tf.keras.Sequential([\n",
    "\n",
    "      tf.keras.layers.Dense(256, \n",
    "\n",
    "                        activation='relu',\n",
    "\n",
    "                        kernel_initializer='he_uniform'),\n",
    "\n",
    "      tf.keras.layers.Dense(128, activation='relu'),\n",
    "\n",
    "      tf.keras.layers.Dense(56, activation='relu'),\n",
    "\n",
    "      tf.keras.layers.Dense(28, activation='relu'),\n",
    "\n",
    "      tf.keras.layers.Dense(output_neurons, activation='sigmoid')\n",
    "\n",
    "    ])\n",
    "\n",
    "\n",
    "\n",
    "    opt = tf.keras.optimizers.Adam(learning_rate=0.001)\n",
    "\n",
    "\n",
    "\n",
    "    model.compile(optimizer=opt,\n",
    "\n",
    "                    loss='binary_crossentropy',\n",
    "\n",
    "                    metrics=['accuracy'])\n",
    "\n",
    "    \n",
    "\n",
    "    model_history = model.fit(X_train, \n",
    "\n",
    "                              y_train, \n",
    "\n",
    "                              validation_data=(X_test, y_test), \n",
    "\n",
    "                              epochs=200, \n",
    "\n",
    "                              batch_size=100,\n",
    "\n",
    "                              verbose=verbose)\n",
    "\n",
    "\n",
    "\n",
    "    if verbose == 1:\n",
    "        \n",
    "        plot_accuracy('Model 3 (binary_crossentropy)', model_history)\n",
    "        \n",
    "        plot_loss('Model 3 (binary_crossentropy)', model_history)\n",
    "        \n",
    "    return model"
   ]
  },
  {
   "cell_type": "code",
   "execution_count": null,
   "metadata": {},
   "outputs": [],
   "source": [
    "y = pd.get_dummies(y)\n",
    "\n",
    "X_train, X_test, y_train, y_test = train_test_split(X, y, test_size=0.33, random_state=42)\n",
    "\n",
    "model3 = train_model3(X_train, X_test, y_train, y_test)"
   ]
  },
  {
   "cell_type": "code",
   "execution_count": null,
   "metadata": {
    "scrolled": false
   },
   "outputs": [],
   "source": [
    "analyse(X_train, X_test, y_train, y_test, model3, 0.5)"
   ]
  },
  {
   "cell_type": "markdown",
   "metadata": {},
   "source": [
    "# Visualize the predictions\n",
    "Import full environment dataset to make predictions on"
   ]
  },
  {
   "cell_type": "code",
   "execution_count": null,
   "metadata": {},
   "outputs": [],
   "source": [
    "# Prepare full Europe environment dataset\n",
    "df_env = pd.read_csv(repo_path / 'data/prepared/data_env_fixed_prepared.csv', index_col=0)\n",
    "\n",
    "# Categorize Land Climate data\n",
    "df_env['land_climate'], categories_land = create_cat_values(df_env['land_climate'], 'land_climate')\n",
    "\n",
    "# Remove all water bodies from dataset\n",
    "df_env_no_water = df_env[df_env['land_climate'] != 'Water Bodies']\n",
    "df_env_no_water.dropna(inplace=True)\n",
    "\n",
    "# Normalize the data\n",
    "column_to_norm = ['elevation', 'WorldClim_prec_m06', 'WorldClim_srad_m06',\n",
    "       'WorldClim_tavg_m06', 'WorldClim_tmax_m06', 'WorldClim_tmin_m06',\n",
    "       'WorldClim_vapr_m06', 'WorldClim_wind_m06', 'BioClim_01', 'BioClim_02',\n",
    "       'BioClim_03', 'BioClim_04', 'BioClim_05', 'BioClim_06', 'BioClim_07',\n",
    "       'BioClim_08', 'BioClim_09', 'BioClim_10', 'BioClim_11', 'BioClim_12',\n",
    "       'BioClim_13', 'BioClim_14', 'BioClim_15', 'BioClim_16', 'BioClim_17',\n",
    "       'BioClim_18', 'BioClim_19']\n",
    "df_env_no_water[column_to_norm] = df_env_no_water[column_to_norm].apply(lambda x: (x - x.min()) / (x.max() - x.min()))\n",
    "\n",
    "df_env_no_water.head()"
   ]
  },
  {
   "cell_type": "code",
   "execution_count": null,
   "metadata": {},
   "outputs": [],
   "source": [
    "def predict(model, df_env):\n",
    "    # Predict likelyhood of butterfly being present on all locations in Europe\n",
    "    prob = model.predict(df_env)\n",
    "\n",
    "    judge_species0 = prob[:, 0]\n",
    "    judge_species1 = prob[:, 1] \n",
    "    judge_species2 = prob[:, 2]\n",
    "    judge_species3 = prob[:, 3]\n",
    "    judge_species4 = prob[:, 4]\n",
    "\n",
    "    return judge_species0, judge_species1, judge_species2, judge_species3, judge_species4\n",
    "\n",
    "# Predict likelyhood with best model (model3)\n",
    "judge_species0, judge_species1, judge_species2, judge_species3, judge_species4 = predict(model3, df_env_no_water)"
   ]
  },
  {
   "cell_type": "code",
   "execution_count": null,
   "metadata": {},
   "outputs": [],
   "source": [
    "# Visualisations\n",
    "def plot_positives(environment, judge, boundary):\n",
    "    positives = environment[judge >= boundary]\n",
    "\n",
    "    world = gpd.read_file(gpd.datasets.get_path('naturalearth_lowres'))\n",
    "\n",
    "    ax = world.plot(color='white', edgecolor='black', figsize=(40, 40))\n",
    "\n",
    "    gdf = gpd.GeoDataFrame(\n",
    "        positives, \n",
    "        geometry=gpd.points_from_xy(positives['lon_latlon'], \n",
    "                                    positives['lat_latlon']))\n",
    "    gdf.plot(ax=ax, markersize=15)\n",
    "\n",
    "    #Define map boundaries\n",
    "    plt.xlim(-25, 43)\n",
    "    plt.ylim(33, 72)\n",
    "\n",
    "    plt.show()\n",
    "\n",
    "def plot_probability(environment, judge, boundary):\n",
    "    positives = environment[judge >= boundary]\n",
    "    judge_positives = judge[judge >= boundary]\n",
    "\n",
    "    preds = positives[['lat_latlon', 'lon_latlon']]\n",
    "    preds['judge'] = judge_positives\n",
    "\n",
    "    world = gpd.read_file(gpd.datasets.get_path('naturalearth_lowres'))\n",
    "\n",
    "    ax = world.plot(color='white', edgecolor='black', figsize=(40, 40))\n",
    "\n",
    "    gdf = gpd.GeoDataFrame(\n",
    "        positives, \n",
    "        geometry=gpd.points_from_xy(preds['lon_latlon'], \n",
    "                                    preds['lat_latlon']))\n",
    "    gdf.plot(ax=ax, \n",
    "             column=preds['judge'], \n",
    "             legend=True, \n",
    "             markersize=15, \n",
    "             legend_kwds={'shrink': 0.5})\n",
    "\n",
    "    #Define map boundaries\n",
    "    plt.xlim(-25, 43)\n",
    "    plt.ylim(33, 72)\n",
    "\n",
    "    plt.show()\n",
    "\n",
    "    # Returns DataFrame with locations and prediction certainty\n",
    "    return preds"
   ]
  },
  {
   "cell_type": "code",
   "execution_count": null,
   "metadata": {},
   "outputs": [],
   "source": [
    "judge_species0.max()"
   ]
  },
  {
   "cell_type": "markdown",
   "metadata": {},
   "source": [
    "## Species 0 (Agriades optilete)"
   ]
  },
  {
   "cell_type": "code",
   "execution_count": null,
   "metadata": {},
   "outputs": [],
   "source": [
    "# plot_positives(df_env_no_water, judge_species0, .5)\n",
    "preds = plot_probability(df_env_no_water, judge_species0, .01)"
   ]
  },
  {
   "cell_type": "markdown",
   "metadata": {},
   "source": [
    "## Species 1 (Boloria titania)"
   ]
  },
  {
   "cell_type": "code",
   "execution_count": null,
   "metadata": {},
   "outputs": [],
   "source": [
    "# plot_positives(df_env_no_water, judge_species1, .5)\n",
    "preds = plot_probability(df_env_no_water, judge_species1, .01)"
   ]
  },
  {
   "cell_type": "markdown",
   "metadata": {},
   "source": [
    "## Species 2 (Melanargia galathea)"
   ]
  },
  {
   "cell_type": "code",
   "execution_count": null,
   "metadata": {},
   "outputs": [],
   "source": [
    "# plot_positives(df_env_no_water, judge_species2, .5)\n",
    "preds = plot_probability(df_env_no_water, judge_species2, .01)"
   ]
  },
  {
   "cell_type": "markdown",
   "metadata": {},
   "source": [
    "## Species 3 (Parnassius apollo)"
   ]
  },
  {
   "cell_type": "code",
   "execution_count": null,
   "metadata": {},
   "outputs": [],
   "source": [
    "# plot_positives(df_env_no_water, judge_species3, .5)\n",
    "preds = plot_probability(df_env_no_water, judge_species3, .01)"
   ]
  },
  {
   "cell_type": "markdown",
   "metadata": {},
   "source": [
    "## Species 4 (Zerynthia rumina)"
   ]
  },
  {
   "cell_type": "code",
   "execution_count": null,
   "metadata": {},
   "outputs": [],
   "source": [
    "plot_positives(df_env_no_water, judge_species4, .5)\n",
    "# preds = plot_probability(df_env_no_water, judge_species4, .01)"
   ]
  },
  {
   "cell_type": "markdown",
   "metadata": {},
   "source": [
    "# Oversampling"
   ]
  },
  {
   "cell_type": "code",
   "execution_count": null,
   "metadata": {
    "scrolled": false
   },
   "outputs": [],
   "source": [
    "# Predict likelyhood with best model (model3) AND oversampling\n",
    "y = pd.get_dummies(y)\n",
    "\n",
    "X_train, X_test, y_train, y_test = train_test_split(X, y, test_size=0.33, random_state=42)\n",
    "\n",
    "model3_oversample = train_model3(X_train, X_test, y_train, y_test, oversample=True, verbose=0)\n",
    "\n",
    "judge_species0_oversample, judge_species1_oversample, judge_species2_oversample, judge_species3_oversample, judge_species4_oversample = predict(model3_oversample, df_env_no_water)\n",
    "\n",
    "analyse(X_train, X_test, y_train, y_test, model3_oversample, 0.5)"
   ]
  },
  {
   "cell_type": "markdown",
   "metadata": {},
   "source": [
    "## Normal visualisation"
   ]
  },
  {
   "cell_type": "code",
   "execution_count": null,
   "metadata": {},
   "outputs": [],
   "source": [
    "preds = plot_probability(df_env_no_water, judge_species0, .5)"
   ]
  },
  {
   "cell_type": "markdown",
   "metadata": {},
   "source": [
    "## Visualisation with oversampling"
   ]
  },
  {
   "cell_type": "code",
   "execution_count": null,
   "metadata": {
    "scrolled": false
   },
   "outputs": [],
   "source": [
    "preds = plot_probability(df_env_no_water, judge_species0_oversample, .5)"
   ]
  },
  {
   "cell_type": "markdown",
   "metadata": {},
   "source": [
    "# Feature dropping (coordinates)"
   ]
  },
  {
   "cell_type": "code",
   "execution_count": null,
   "metadata": {},
   "outputs": [],
   "source": [
    "# Drop coordinates\n",
    "X_without_coordinates = X.drop(['obs_latitude', 'obs_longitude'], axis=1)\n",
    "df_env_no_water_coordinates = df_env_no_water.drop(['lat_latlon', 'lon_latlon'], axis=1)\n",
    "\n",
    "X_without_coordinates.head()"
   ]
  },
  {
   "cell_type": "code",
   "execution_count": null,
   "metadata": {
    "scrolled": false,
    "tags": []
   },
   "outputs": [],
   "source": [
    "# Predict likelyhood with best model (model3) AND oversampling\n",
    "y = pd.get_dummies(y)\n",
    "\n",
    "X_train, X_test, y_train, y_test = train_test_split(X_without_coordinates, y, test_size=0.33, random_state=42)\n",
    "\n",
    "# Predict likelyhood with best model (model3) WITHOUT coordinates\n",
    "model3_without_coordinates = train_model3(X_train, X_test, y_train, y_test,oversample=False, verbose=0)\n",
    "\n",
    "judge_species0_without_coordinates, judge_species1_without_coordinates, judge_species2_without_coordinates, judge_species3_without_coordinates, judge_species4_without_coordinates = predict(model3_without_coordinates, df_env_no_water_coordinates)\n",
    "\n",
    "analyse(X_train, X_test, y_train, y_test, model3_without_coordinates, 0.5)"
   ]
  },
  {
   "cell_type": "markdown",
   "metadata": {},
   "source": [
    "## Normal visualisation"
   ]
  },
  {
   "cell_type": "code",
   "execution_count": null,
   "metadata": {
    "scrolled": false
   },
   "outputs": [],
   "source": [
    "preds = plot_probability(df_env_no_water, judge_species4, .01)"
   ]
  },
  {
   "cell_type": "markdown",
   "metadata": {},
   "source": [
    "## Visualisation with feature dropping (coordinates)"
   ]
  },
  {
   "cell_type": "code",
   "execution_count": null,
   "metadata": {
    "scrolled": false
   },
   "outputs": [],
   "source": [
    "preds = plot_probability(df_env_no_water, judge_species4_without_coordinates, .01)"
   ]
  },
  {
   "cell_type": "markdown",
   "metadata": {},
   "source": [
    "## Visualisation with SpargeKCategorigical (k=2)"
   ]
  },
  {
   "cell_type": "code",
   "execution_count": null,
   "metadata": {
    "scrolled": true
   },
   "outputs": [],
   "source": [
    "judge_species0_k2, judge_species1_k2, judge_species2_k2, judge_species3_k2, judge_species4_k2 = predict(model2, df_env_no_water)\n",
    "\n",
    "preds = plot_probability(df_env_no_water, judge_species4_k2, .01)"
   ]
  },
  {
   "cell_type": "code",
   "execution_count": null,
   "metadata": {},
   "outputs": [],
   "source": [
    "judge_species4_k2"
   ]
  },
  {
   "cell_type": "markdown",
   "metadata": {},
   "source": [
    "## Visualisation with oversampling"
   ]
  },
  {
   "cell_type": "code",
   "execution_count": null,
   "metadata": {},
   "outputs": [],
   "source": [
    "preds = plot_probability(df_env_no_water, judge_species4_oversample, .5)"
   ]
  },
  {
   "cell_type": "code",
   "execution_count": null,
   "metadata": {},
   "outputs": [],
   "source": []
  }
 ],
 "metadata": {
  "kernelspec": {
   "display_name": "Python 3",
   "language": "python",
   "name": "python3"
  },
  "language_info": {
   "codemirror_mode": {
    "name": "ipython",
    "version": 3
   },
   "file_extension": ".py",
   "mimetype": "text/x-python",
   "name": "python",
   "nbconvert_exporter": "python",
   "pygments_lexer": "ipython3",
   "version": "3.8.3"
  },
  "papermill": {
   "duration": 328.20954,
   "end_time": "2020-11-18T12:35:54.231346",
   "environment_variables": {},
   "exception": null,
   "input_path": "__notebook__.ipynb",
   "output_path": "__notebook__.ipynb",
   "parameters": {},
   "start_time": "2020-11-18T12:30:26.021806",
   "version": "2.1.0"
  }
 },
 "nbformat": 4,
 "nbformat_minor": 4
}
